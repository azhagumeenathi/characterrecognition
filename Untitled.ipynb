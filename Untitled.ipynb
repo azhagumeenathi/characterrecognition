{
 "cells": [
  {
   "cell_type": "code",
   "execution_count": 1,
   "id": "7caf4b17",
   "metadata": {},
   "outputs": [],
   "source": [
    "import pytesseract "
   ]
  },
  {
   "cell_type": "code",
   "execution_count": 2,
   "id": "6d624760",
   "metadata": {},
   "outputs": [],
   "source": [
    "import cv2"
   ]
  },
  {
   "cell_type": "code",
   "execution_count": 3,
   "id": "e2e0495e",
   "metadata": {},
   "outputs": [],
   "source": [
    "import matplotlib.pyplot as plt"
   ]
  },
  {
   "cell_type": "code",
   "execution_count": 4,
   "id": "24a72635",
   "metadata": {},
   "outputs": [],
   "source": [
    "pytesseract.pytesseract.tesseract_cmd = r'C:\\Program Files\\Tesseract-OCR\\\\tesseract.exe'"
   ]
  },
  {
   "cell_type": "code",
   "execution_count": null,
   "id": "6ae30f5a",
   "metadata": {},
   "outputs": [],
   "source": [
    "import numpy as np\n",
    "font_scale = 1.5\n",
    "font = cv2.FONT_HERSHEY_PLAIN\n",
    "\n",
    "cap = cv2.VideoCapture(1)\n",
    "\n",
    "if not cap.isOpened():\n",
    "    cap=cv2.VideoCapture(0)\n",
    "if not cap.isOpened():\n",
    "    raise IOError(\"cannot open webcam\")\n",
    "\n",
    "    \n",
    "cntr=0;\n",
    "while True:\n",
    "    ret,frame = cap.read()\n",
    "    cntr= cntr+1;\n",
    "    if((cntr%20)==0):\n",
    "        \n",
    "        imgH, imgW, _ =frame.shape\n",
    "        x1,y1,w1,h1 = 0,0,imgH,imgW\n",
    "        imgchar = pytesseract.image_to_string(frame)\n",
    "        \n",
    "        imgboxes = pytesseract.image_to_boxes(frame)\n",
    "        for boxes in imgboxes.splitlines():\n",
    "                                              \n",
    "            boxes = boxes.split(' ')\n",
    "            x,y,w,h = int(boxes[1]),int(boxes[2]),int(boxes[3]),int(boxes[4])\n",
    "            cv2.rectangle(frame , (x,imgH-y), (w,imgH-h) , (0,0,255), 3)\n",
    "        cv2.putText(frame, imgchar,(x1 + int(w1/50), y1 + int(h1/50)), cv2.FONT_HERSHEY_SIMPLEX, 0.7 , (0,0,255), 2)\n",
    "        font = cv2.FONT_HERSHEY_SIMPLEX\n",
    "        cv2.imshow('Detection',frame)\n",
    "        if cv2.waitKey(2) & 0xFF == ord('q'):\n",
    "            break\n",
    "cap.release()\n",
    "cv2.destroyAllWindows()\n",
    "    "
   ]
  },
  {
   "cell_type": "code",
   "execution_count": null,
   "id": "683a0721",
   "metadata": {},
   "outputs": [],
   "source": []
  },
  {
   "cell_type": "code",
   "execution_count": null,
   "id": "909a64a7",
   "metadata": {},
   "outputs": [],
   "source": []
  }
 ],
 "metadata": {
  "kernelspec": {
   "display_name": "Python 3",
   "language": "python",
   "name": "python3"
  },
  "language_info": {
   "codemirror_mode": {
    "name": "ipython",
    "version": 3
   },
   "file_extension": ".py",
   "mimetype": "text/x-python",
   "name": "python",
   "nbconvert_exporter": "python",
   "pygments_lexer": "ipython3",
   "version": "3.8.8"
  }
 },
 "nbformat": 4,
 "nbformat_minor": 5
}
